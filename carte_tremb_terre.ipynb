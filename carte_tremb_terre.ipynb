{
 "cells": [
  {
   "cell_type": "markdown",
   "metadata": {},
   "source": [
    "# Tremblements de terre en France\n",
    "L'objectif du TP est de \n",
    "- placer les épicentres des tremblements de terre sur une carte avec des marqueurs circulaires de taille proportionnelle à la magnitude\n",
    "- indiquer en pop-up la magnitude et la date de l'évènement."
   ]
  },
  {
   "cell_type": "markdown",
   "metadata": {},
   "source": [
    "## Fonction permettant d'aller chercher les données des tremblements de terre\n",
    "plus de détails sur les options de la requête : https://earthquake.usgs.gov/fdsnws/event/1/"
   ]
  },
  {
   "cell_type": "code",
   "execution_count": null,
   "metadata": {},
   "outputs": [],
   "source": [
    "import json\n",
    "import requests\n",
    "def requete():\n",
    "    reponse_brute =  requests.get('https://earthquake.usgs.gov/fdsnws/event/1/query?format=geojson&starttime=2020-01-01&minlatitude=42&maxlatitude=51&minlongitude=-6&maxlongitude=8')\n",
    "    reponse = json.loads(reponse_brute.text) #Convertit le fichier JSON en dictionnaire python\n",
    "    return reponse\n",
    "\n",
    "if __name__ == \"__main__\":\n",
    "    print(requete())"
   ]
  },
  {
   "cell_type": "markdown",
   "metadata": {},
   "source": [
    "## Fonction convertissant des datestamps en un format plus lisible\n",
    "la date des évènements est renseignée au format datestamp : 1582147254733 en ms..."
   ]
  },
  {
   "cell_type": "code",
   "execution_count": null,
   "metadata": {},
   "outputs": [],
   "source": [
    "from datetime import datetime\n",
    "\n",
    "def date_lisible(datestam):\n",
    "    return datetime.fromtimestamp(datestam/1000).__str__()[:19]\n",
    "\n",
    "if __name__ == \"__main__\":\n",
    "    print(date_lisible(1582147254733))"
   ]
  },
  {
   "cell_type": "markdown",
   "metadata": {},
   "source": [
    "## Fonction permettant de créer une carte interactive avec un marqueur circulaire\n",
    "Pour plus d'options, suivre ce lien : https://python-visualization.github.io/folium/modules.html"
   ]
  },
  {
   "cell_type": "code",
   "execution_count": null,
   "metadata": {},
   "outputs": [],
   "source": [
    "import folium\n",
    "\n",
    "def afficher_carte():\n",
    "    m = folium.Map(location=[48.11, -1.666],zoom_start=13)\n",
    "    folium.CircleMarker(\n",
    "        location = [48.1348, -1.6831],\n",
    "        radius = 30,\n",
    "        popup = 'Lycée Mendes France',\n",
    "        color = '#3186cc',\n",
    "        fill = True,\n",
    "        fill_color = '#3186cc'\n",
    "    ).add_to(m)\n",
    "    return m\n",
    "\n",
    "afficher_carte()\n",
    "#Pour créer une page html contenant la carte, décommenter l'instruction ci-dessous\n",
    "#afficher_carte().save('index.html')"
   ]
  },
  {
   "cell_type": "code",
   "execution_count": null,
   "metadata": {},
   "outputs": [],
   "source": []
  }
 ],
 "metadata": {
  "kernelspec": {
   "display_name": "Python 3",
   "language": "python",
   "name": "python3"
  },
  "language_info": {
   "codemirror_mode": {
    "name": "ipython",
    "version": 3
   },
   "file_extension": ".py",
   "mimetype": "text/x-python",
   "name": "python",
   "nbconvert_exporter": "python",
   "pygments_lexer": "ipython3",
   "version": "3.7.3"
  }
 },
 "nbformat": 4,
 "nbformat_minor": 2
}

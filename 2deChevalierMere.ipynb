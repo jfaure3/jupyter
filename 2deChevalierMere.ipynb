{
 "cells": [
  {
   "cell_type": "markdown",
   "metadata": {},
   "source": [
    "# Programmer en Python avec des nombres aléatoires"
   ]
  },
  {
   "cell_type": "markdown",
   "metadata": {},
   "source": [
    ">Remarque : Le module random permet de générer des nombres aléatoires.\n",
    ">\n",
    ">`random()` renvoie un nombre à virgule (flottant) choisi dans l'intervalle $[0\\;1[$\n",
    ">\n",
    ">`randint(a,b)` renvoie un entier choisi aléatoirement dans $[a\\,;b]$\n"
   ]
  },
  {
   "cell_type": "markdown",
   "metadata": {},
   "source": [
    "<div style=\"background-color:#FFdddd;\">\n",
    "\n",
    "## À vous de jouer 1 : \n",
    "Tester plusieurs fois le programme suivant.    \n",
    "Que fait-il ?\n",
    "\n",
    "</div>"
   ]
  },
  {
   "cell_type": "code",
   "execution_count": null,
   "metadata": {},
   "outputs": [],
   "source": [
    "def lance():\n",
    "    from random import randint\n",
    "    a = randint(1,4)\n",
    "    return a\n",
    "\n",
    "lance()"
   ]
  },
  {
   "cell_type": "markdown",
   "metadata": {},
   "source": [
    "<div style=\"background-color:#FFdddd;\">\n",
    "\n",
    "Compléter le script ci-dessous pour que le programme retourne \n",
    "- « GAGNE » si le nombre aléatoire est 4 et \n",
    "- « PERDU » dans les autres cas.\n",
    "</div>"
   ]
  },
  {
   "cell_type": "code",
   "execution_count": null,
   "metadata": {},
   "outputs": [],
   "source": [
    "def joue():\n",
    "    from random import randint\n",
    "    a = randint(1,4)\n",
    "    if a...\n",
    "\n",
    "joue()"
   ]
  },
  {
   "cell_type": "markdown",
   "metadata": {},
   "source": [
    "<div style=\"background-color:#FFdddd;\">\n",
    "\n",
    "## À vous de jouer 2 : \n",
    "Compléter l’algorithme suivant pour que le programme affiche le nombre de 4 obtenus lorsqu’on simule 100 lancers de dé à 4 faces.\n",
    "\n",
    "</div>"
   ]
  },
  {
   "cell_type": "code",
   "execution_count": null,
   "metadata": {},
   "outputs": [],
   "source": [
    "def nb_4():\n",
    "    from random import randint\n",
    "    compteur = 0\n",
    "    for _ in range(...):\n",
    "        a = randint(1,4)\n",
    "        if a == 4:\n",
    "            compteur = compteur + ...\n",
    "    return ...\n",
    "\n",
    "nb_4()"
   ]
  },
  {
   "cell_type": "markdown",
   "metadata": {},
   "source": [
    "<div style=\"background-color:#FFdddd;\">\n",
    "\n",
    "- Quelle est la probabilité associée à « obtenir un 4 » lorsqu’on lance un dé tétraédrique équilibré ? \n",
    "- Les résultats obtenus vous semblent-ils cohérents ?\n",
    "    </div>"
   ]
  },
  {
   "cell_type": "markdown",
   "metadata": {},
   "source": [
    "> On peut aussi, sans tirer aléatoirement le numéro du dé, simuler l’expérience du script `À vous de jouer 1` avec le programme suivant :"
   ]
  },
  {
   "cell_type": "code",
   "execution_count": null,
   "metadata": {},
   "outputs": [],
   "source": [
    "def joue_2():\n",
    "    from random import random\n",
    "    if random() < 0.25:\n",
    "        return 'GAGNE'\n",
    "    else:\n",
    "        return 'PERDU'\n",
    "\n",
    "joue_2()"
   ]
  },
  {
   "cell_type": "markdown",
   "metadata": {},
   "source": [
    "<div style=\"background-color:#FFdddd;\">\n",
    "\n",
    "## À vous de jouer 3 : \n",
    "Modifier l’algorithme suivant pour simuler le choix d’un client dans un restaurant sachant que \n",
    "- 65 % des clients choisissent « entrée et plat » et que\n",
    "- les autres choisissent « plat et dessert ».\n",
    "</div>"
   ]
  },
  {
   "cell_type": "code",
   "execution_count": null,
   "metadata": {},
   "outputs": [],
   "source": [
    "def commande():\n",
    "    from random import random\n",
    "    if random() < ...:\n",
    "        return '...'\n",
    "    else:\n",
    "        return '...'\n",
    "\n",
    "commande()"
   ]
  },
  {
   "cell_type": "markdown",
   "metadata": {},
   "source": [
    "> Le chevalier de Mérée (1607 – 1684) prétendait qu’il fallait lancer quatre fois un dé à 6 faces pour avoir plus de chance d’obtenir un 6 que de ne pas en obtenir."
   ]
  },
  {
   "cell_type": "markdown",
   "metadata": {},
   "source": [
    "<div style=\"background-color:#FFdddd;\">\n",
    "\n",
    "## À vous de jouer 4 : \n",
    "Observer les 3 programmes suivants.\n",
    "Ils simulent la même expérence : \n",
    "- on lance un dé à 6 faces équilibré\n",
    "- on gagne si on a eu un 6 sur les 4 premiers lancers.\n",
    "    \n",
    "    \n",
    "- Quel(s) programme(s) s'arrête(nt) si on obtient un 6 sur le deuxième lancer ?\n",
    "- Quel(s) programme(s) ne s'arrête(nt) que lorsqu'on obtient un 6 ?\n",
    "- Quel(s) programme(s) lance toujours 4 dés ?\n",
    "    \n",
    "</div>"
   ]
  },
  {
   "cell_type": "code",
   "execution_count": null,
   "metadata": {},
   "outputs": [],
   "source": [
    "def algo_1():\n",
    "    from random import randint\n",
    "    compteur = 0\n",
    "    for _ in range(4):\n",
    "        a = randint(1,6)\n",
    "        if a == 6:\n",
    "            compteur = compteur + 1\n",
    "    if compteur != 0:\n",
    "        return 'GAGNE'\n",
    "    else:\n",
    "        return 'PERDU'\n",
    "algo_1()"
   ]
  },
  {
   "cell_type": "code",
   "execution_count": null,
   "metadata": {},
   "outputs": [],
   "source": [
    "def algo_2():\n",
    "    from random import randint\n",
    "    for _ in range(4):\n",
    "        a = randint(1,6)\n",
    "        if a == 6:\n",
    "            return 'GAGNE'\n",
    "    return 'PERDU'\n",
    "algo_2()"
   ]
  },
  {
   "cell_type": "code",
   "execution_count": null,
   "metadata": {},
   "outputs": [],
   "source": [
    "def algo_3():\n",
    "    from random import randint\n",
    "    a = 0\n",
    "    compteur = 0\n",
    "    while a != 6:\n",
    "        a = randint(1,6)\n",
    "        compteur = compteur + 1\n",
    "    if compteur <= 4:\n",
    "        return 'GAGNE'\n",
    "    else:\n",
    "        return 'PERDU'\n",
    "algo_3()"
   ]
  },
  {
   "cell_type": "markdown",
   "metadata": {},
   "source": [
    ">Pour tester la conjecture du chevalier de Mérée, on décide de répéter 1 000 fois l’expérience et de calculer la fréquence associée. \n",
    ">    \n",
    ">Pour cela on utilise le 2ème algorithme de la façon suivante."
   ]
  },
  {
   "cell_type": "code",
   "execution_count": null,
   "metadata": {},
   "outputs": [],
   "source": [
    "def simulation(n):\n",
    "    nombre = 0\n",
    "    for _ in range(n):\n",
    "        if algo_2() == 'GAGNE':\n",
    "            nombre = nombre + 1\n",
    "    return nombre / n\n",
    "\n",
    "simulation(1000)"
   ]
  },
  {
   "cell_type": "markdown",
   "metadata": {},
   "source": [
    "<div style=\"background-color:#FFdddd;\">\n",
    "\n",
    "- Tester 5 fois le programme et noter les valeurs obtenues.\n",
    "- Sur cet échantillon de 1 000 lancers, la conjecture est-elle validée ?\n",
    "</div>"
   ]
  },
  {
   "cell_type": "markdown",
   "metadata": {},
   "source": [
    "> Pour se rapprocher de la probabilité théorique, on décide de faire 10 000 lancers au lieu de 1 000 lancers.\n"
   ]
  },
  {
   "cell_type": "markdown",
   "metadata": {},
   "source": [
    "<div style=\"background-color:#FFdddd;\">\n",
    " \n",
    "- Modifier l’algorithme et le tester plusieurs fois. \n",
    "- Que pensez a priori de la conjecture du chevalier de Mérée ?\n",
    "\n",
    "    </div>"
   ]
  }
 ],
 "metadata": {
  "kernelspec": {
   "display_name": "Python 3",
   "language": "python",
   "name": "python3"
  },
  "language_info": {
   "codemirror_mode": {
    "name": "ipython",
    "version": 3
   },
   "file_extension": ".py",
   "mimetype": "text/x-python",
   "name": "python",
   "nbconvert_exporter": "python",
   "pygments_lexer": "ipython3",
   "version": "3.7.3"
  }
 },
 "nbformat": 4,
 "nbformat_minor": 2
}

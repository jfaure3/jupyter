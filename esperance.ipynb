{
 "cells": [
  {
   "cell_type": "markdown",
   "metadata": {},
   "source": [
    "# Espérance : (inspiré du TP1 p 316)"
   ]
  },
  {
   "cell_type": "markdown",
   "metadata": {},
   "source": [
    "## 1. Travail préparatoire sur les listes"
   ]
  },
  {
   "cell_type": "markdown",
   "metadata": {},
   "source": [
    "### 1.1. La fonction `len` \n",
    "Elle renvoie la longueur des listes, des chaines de caractères..., c'est à dire le nombre d'éléments\n",
    "\n",
    ">Exécuter les cellules ci-dessous pour tester la fonction."
   ]
  },
  {
   "cell_type": "code",
   "execution_count": null,
   "metadata": {},
   "outputs": [],
   "source": [
    "len([1, 2, 3, 4, 5])"
   ]
  },
  {
   "cell_type": "code",
   "execution_count": null,
   "metadata": {},
   "outputs": [],
   "source": [
    "len(['e',4,False])"
   ]
  },
  {
   "cell_type": "code",
   "execution_count": null,
   "metadata": {},
   "outputs": [],
   "source": [
    "len('Bonjour')"
   ]
  },
  {
   "cell_type": "markdown",
   "metadata": {},
   "source": [
    "### 1.2 Indices des termes d'une liste\n",
    "\n",
    "Attention, comme pour la fonction range(10), les indices des listes commencent à 0 et se terminent à 9, autrement dit à `len(liste) - 1`\n",
    "\n",
    "> Exécuter les cellules ci-dessous pour comprendre la notion des listes en compréhension"
   ]
  },
  {
   "cell_type": "code",
   "execution_count": null,
   "metadata": {},
   "outputs": [],
   "source": [
    "liste = ['z', 7, 'bonjour', 3.14]"
   ]
  },
  {
   "cell_type": "code",
   "execution_count": null,
   "metadata": {},
   "outputs": [],
   "source": [
    "liste[0]"
   ]
  },
  {
   "cell_type": "code",
   "execution_count": null,
   "metadata": {},
   "outputs": [],
   "source": [
    "liste[1]"
   ]
  },
  {
   "cell_type": "code",
   "execution_count": null,
   "metadata": {},
   "outputs": [],
   "source": [
    "liste[3]"
   ]
  },
  {
   "cell_type": "code",
   "execution_count": null,
   "metadata": {},
   "outputs": [],
   "source": [
    "liste[4] #lire le message d'erreur"
   ]
  },
  {
   "cell_type": "markdown",
   "metadata": {},
   "source": [
    "### 1.3 Listes en compréhension\n",
    "\n",
    "Elles sont construites sur le même principe qu'en mathématique : $F=\\{x^2 \\text{ tel que }x\\in\\{1\\,;2\\,;...\\,;10\\}\\}$ représente l'ensemble des dix premiers carrés non nuls\n",
    "\n",
    "> Exécuter les cellules ci-dessous pour comprendre la notion des listes en compréhension"
   ]
  },
  {
   "cell_type": "code",
   "execution_count": null,
   "metadata": {},
   "outputs": [],
   "source": [
    "X = [x for x in range(1,11)]\n",
    "X"
   ]
  },
  {
   "cell_type": "code",
   "execution_count": null,
   "metadata": {},
   "outputs": [],
   "source": [
    "X = [x**2 for x in range(1,11)]\n",
    "X"
   ]
  },
  {
   "cell_type": "code",
   "execution_count": null,
   "metadata": {},
   "outputs": [],
   "source": [
    "X = [x*2 for x in 'Bonjour']\n",
    "X"
   ]
  },
  {
   "cell_type": "code",
   "execution_count": null,
   "metadata": {},
   "outputs": [],
   "source": [
    "X = [x*2 for x in [1,'a',True, 3.2]]\n",
    "X"
   ]
  },
  {
   "cell_type": "markdown",
   "metadata": {},
   "source": [
    "## 2. Loi de probabilité\n",
    "On s'intéresse à la variable aléatoire X qui prend ses valeurs dans l'ensemble $\\{1\\,;2\\,;...\\,;10\\}$.\n",
    "\n",
    "La probabilité de chaque issue est proportionnelle à sa valeur.\n",
    "\n",
    ">2.1. Déterminer la loi de probabilité associée à X : recopier et compléter ce tableau\n",
    "\n",
    "\n",
    "|$x_i$|1|2|3|4|5|6|7|8|9|10|\n",
    "| --- | --- | --- | --- | --- | --- | --- | --- | --- | --- | --- |\n",
    "|$p_i$|...|...|...|...|...|...|...|...|...|...|\n",
    "\n",
    ">2.2. Créer, sur le principe des listes en conpréhension, une liste nommée `X` contenant les issues {1;2;...;10} ainsi qu'une liste `P` contenant les probabilités associées"
   ]
  },
  {
   "cell_type": "code",
   "execution_count": null,
   "metadata": {},
   "outputs": [],
   "source": [
    "X = ...\n",
    "X"
   ]
  },
  {
   "cell_type": "code",
   "execution_count": null,
   "metadata": {},
   "outputs": [],
   "source": [
    "P = ...\n",
    "P"
   ]
  },
  {
   "cell_type": "markdown",
   "metadata": {},
   "source": [
    "## 3. Espérance\n",
    ">3.1. Compléter la fonction `espérance` qui prend deux listes comme paramètres `X` et `P` et qui renvoie l'espérance de la variable aléatoire"
   ]
  },
  {
   "cell_type": "code",
   "execution_count": null,
   "metadata": {},
   "outputs": [],
   "source": [
    "def espérance(X, P):\n",
    "    \"\"\"revoie l'espérance de la variable aléatoire \n",
    "    dont les issues sont dans la liste X et \n",
    "    les probabilités associées sont dans la liste P\"\"\"\n",
    "    E = 0 #E est un acumulateur dans lequel on va ajouter les pi.xi\n",
    "    for i in range(len(X)):\n",
    "        E = E + ...\n",
    "    return ..."
   ]
  },
  {
   "cell_type": "markdown",
   "metadata": {},
   "source": [
    "> 3.2. Tester la fonction sur la variable aléatoire X"
   ]
  },
  {
   "cell_type": "code",
   "execution_count": null,
   "metadata": {},
   "outputs": [],
   "source": [
    "espérance(X, P) #On doit trouver 7"
   ]
  },
  {
   "cell_type": "markdown",
   "metadata": {},
   "source": [
    "## 4. Dispersion\n",
    ">4.1. Compléter la fonction `dispersion` qui prend deux listes comme paramètres `X` et `P` et qui renvoie la variance et l'écart-type de la variable aléatoire\n",
    "\n",
    "On pourra bien évidemment utiliser la fonction `espérance` que l'on vient de créer."
   ]
  },
  {
   "cell_type": "code",
   "execution_count": null,
   "metadata": {},
   "outputs": [],
   "source": [
    "def dispersion(X, P):\n",
    "    from math import sqrt #fonction racine : sqrt(16) renvoie 4. On peut aussi utiliser 16**0.5\n",
    "    \"\"\"revoie la variance et l'écart-type de la variable aléatoire \n",
    "    dont les issues sont dans la liste X et \n",
    "    les probabilités associées sont dans la liste P\"\"\"\n",
    "    V = 0 #V est un acumulateur dans lequel on va ajouter les pi.(xi-E)**2\n",
    "    E = ...\n",
    "    for i in range(len(X)): #l'instruction len(X) renvoie la longueur de la liste X\n",
    "        V = V + ...\n",
    "    S = ... #contient l'écart-type\n",
    "    return V, S #en renvoyant A, B on renvoie un couple de valeur"
   ]
  },
  {
   "cell_type": "markdown",
   "metadata": {},
   "source": [
    "> 3.2. Tester la fonction sur la variable aléatoire X"
   ]
  },
  {
   "cell_type": "code",
   "execution_count": null,
   "metadata": {},
   "outputs": [],
   "source": [
    "dispersion(X, P) #On doit obtenir 6 pour la variance et environ 2,45 pour l'écart-type"
   ]
  },
  {
   "cell_type": "markdown",
   "metadata": {},
   "source": [
    "## 5.Nouvelle variable aléatoire"
   ]
  },
  {
   "cell_type": "markdown",
   "metadata": {},
   "source": [
    "Nous allons tester nos deux fonctions sur la variable aléatoire Y dont la loi est  : \n",
    "\n",
    "|$y_i$|2|4|8|16|32|64|128|256|512|1024|\n",
    "| --- | --- | --- | --- | --- | --- | --- | --- | --- | --- | --- |\n",
    "|$p_i$|0,15|0,1|0,1|0,1|0,1|0,05|0,1|0,1|0,1|0,1|"
   ]
  },
  {
   "cell_type": "markdown",
   "metadata": {},
   "source": [
    ">5.1. Créer la liste `Y` des issues en utilisant une liste en compréhension."
   ]
  },
  {
   "cell_type": "code",
   "execution_count": null,
   "metadata": {},
   "outputs": [],
   "source": [
    "Y = ...\n",
    "P = [0.15, 0.1, 0.1, 0.1, 0.1, 0.05, 0.1, 0.1, 0.1, 0.1]\n",
    "Y"
   ]
  },
  {
   "cell_type": "markdown",
   "metadata": {},
   "source": [
    "> 5.2. Calculer les paramètres de cette variable aléatoire"
   ]
  },
  {
   "cell_type": "code",
   "execution_count": null,
   "metadata": {},
   "outputs": [],
   "source": [
    "espérance(Y, P)"
   ]
  },
  {
   "cell_type": "code",
   "execution_count": null,
   "metadata": {},
   "outputs": [],
   "source": [
    "dispersion(Y, P)"
   ]
  }
 ],
 "metadata": {
  "kernelspec": {
   "display_name": "Python 3",
   "language": "python",
   "name": "python3"
  },
  "language_info": {
   "codemirror_mode": {
    "name": "ipython",
    "version": 3
   },
   "file_extension": ".py",
   "mimetype": "text/x-python",
   "name": "python",
   "nbconvert_exporter": "python",
   "pygments_lexer": "ipython3",
   "version": "3.7.3"
  }
 },
 "nbformat": 4,
 "nbformat_minor": 2
}

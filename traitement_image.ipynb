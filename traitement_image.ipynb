{
 "cells": [
  {
   "cell_type": "markdown",
   "metadata": {},
   "source": [
    "# Traitement d'images"
   ]
  },
  {
   "cell_type": "markdown",
   "metadata": {},
   "source": [
    "## À faire vous-même 1"
   ]
  },
  {
   "cell_type": "code",
   "execution_count": null,
   "metadata": {},
   "outputs": [],
   "source": [
    "from PIL import Image\n",
    "img = Image.open(\"pomme.jpg\")\n",
    "r,v,b=img.getpixel((100,250))\n",
    "print(\"canal rouge : \",r,\"canal vert : \",v,\"canal bleu : \",b)"
   ]
  },
  {
   "cell_type": "markdown",
   "metadata": {},
   "source": [
    "## À faire vous-même 2"
   ]
  },
  {
   "cell_type": "code",
   "execution_count": null,
   "metadata": {},
   "outputs": [],
   "source": [
    "from PIL import Image\n",
    "img = Image.open(\"pomme.jpg\")\n",
    "r,v,b=img.getpixel((100,250))\n",
    "print(\"canal rouge : \",r,\"canal vert : \",v,\"canal bleu : \",b)"
   ]
  },
  {
   "cell_type": "markdown",
   "metadata": {},
   "source": [
    "## À faire vous-même 3"
   ]
  },
  {
   "cell_type": "code",
   "execution_count": null,
   "metadata": {},
   "outputs": [],
   "source": [
    "from matplotlib.pyplot import imshow\n",
    "import numpy as np\n",
    "from PIL import Image\n",
    "%matplotlib inline\n",
    "\n",
    "img = Image.open(\"pomme.jpg\")\n",
    "img.putpixel((250,250),(255,0,0))\n",
    "imshow(np.asarray(img))"
   ]
  },
  {
   "cell_type": "markdown",
   "metadata": {},
   "source": [
    "## À faire vous-même 4"
   ]
  },
  {
   "cell_type": "code",
   "execution_count": null,
   "metadata": {},
   "outputs": [],
   "source": [
    "from matplotlib.pyplot import imshow\n",
    "import numpy as np\n",
    "from PIL import Image\n",
    "%matplotlib inline\n",
    "\n",
    "img = Image.open(\"pomme.jpg\")\n",
    "img.putpixel((250,250),(255,0,0))\n",
    "imshow(np.asarray(img))"
   ]
  },
  {
   "cell_type": "markdown",
   "metadata": {},
   "source": [
    "## À faire vous-même 5"
   ]
  },
  {
   "cell_type": "code",
   "execution_count": null,
   "metadata": {},
   "outputs": [],
   "source": [
    "from matplotlib.pyplot import imshow\n",
    "import numpy as np\n",
    "from PIL import Image\n",
    "%matplotlib inline\n",
    "\n",
    "img = Image.open(\"pomme.jpg\")\n",
    "largeur_image=500\n",
    "hauteur_image=500\n",
    "for y in range(450,hauteur_image):\n",
    "    for x in range(495,largeur_image):\n",
    "        r,v,b=img.getpixel((x,y))\n",
    "        print(\"rouge : \",r,\"vert : \",v,\"bleu : \",b)\n",
    "print(\"fin\")"
   ]
  },
  {
   "cell_type": "markdown",
   "metadata": {},
   "source": [
    "## À faire vous-même 6"
   ]
  },
  {
   "cell_type": "code",
   "execution_count": null,
   "metadata": {},
   "outputs": [],
   "source": [
    "from matplotlib.pyplot import imshow\n",
    "import numpy as np\n",
    "from PIL import Image\n",
    "%matplotlib inline\n",
    "\n",
    "img = Image.open(\"pomme.jpg\")\n",
    "largeur_image=500\n",
    "hauteur_image=500\n",
    "for y in range(hauteur_image):\n",
    "    for x in range(largeur_image):\n",
    "        r,v,b=img.getpixel((x,y))\n",
    "        n_r=v\n",
    "        n_v=b\n",
    "        n_b=r\n",
    "        img.putpixel((x,y),(n_r,n_v,n_b))\n",
    "imshow(np.asarray(img))"
   ]
  },
  {
   "cell_type": "markdown",
   "metadata": {},
   "source": [
    "## À faire vous-même 7"
   ]
  },
  {
   "cell_type": "code",
   "execution_count": null,
   "metadata": {},
   "outputs": [],
   "source": [
    "from matplotlib.pyplot import imshow\n",
    "import numpy as np\n",
    "from PIL import Image\n",
    "%matplotlib inline\n",
    "\n",
    "img = Image.open(\"pomme.jpg\")\n",
    "largeur_image=500\n",
    "hauteur_image=500\n",
    "for y in range(hauteur_image):\n",
    "    for x in range(largeur_image):\n",
    "        r,v,b=img.getpixel((x,y))\n",
    "        n_r=v\n",
    "        n_v=b\n",
    "        n_b=r\n",
    "        img.putpixel((x,y),(n_r,n_v,n_b))\n",
    "imshow(np.asarray(img))"
   ]
  },
  {
   "cell_type": "markdown",
   "metadata": {},
   "source": [
    "## À faire vous-même 8"
   ]
  },
  {
   "cell_type": "code",
   "execution_count": null,
   "metadata": {},
   "outputs": [],
   "source": [
    "from matplotlib.pyplot import imshow\n",
    "import numpy as np\n",
    "from PIL import Image\n",
    "%matplotlib inline\n",
    "\n",
    "img = Image.open(\"pomme.jpg\")\n",
    "largeur_image=500\n",
    "hauteur_image=500\n",
    "for y in range(hauteur_image):\n",
    "    for x in range(largeur_image):\n",
    "        r,v,b=img.getpixel((x,y))\n",
    "        n_r=v\n",
    "        n_v=b\n",
    "        n_b=r\n",
    "        img.putpixel((x,y),(n_r,n_v,n_b))\n",
    "imshow(np.asarray(img))"
   ]
  },
  {
   "cell_type": "markdown",
   "metadata": {},
   "source": [
    "## À faire vous-même 9"
   ]
  },
  {
   "cell_type": "code",
   "execution_count": null,
   "metadata": {},
   "outputs": [],
   "source": [
    "from matplotlib.pyplot import imshow\n",
    "import numpy as np\n",
    "from PIL import Image\n",
    "%matplotlib inline\n",
    "\n",
    "img = Image.open(\"pomme.jpg\")\n",
    "largeur_image=500\n",
    "hauteur_image=500\n",
    "for y in range(hauteur_image):\n",
    "    for x in range(largeur_image):\n",
    "        r,v,b=img.getpixel((x,y))\n",
    "        n_r=v\n",
    "        n_v=b\n",
    "        n_b=r\n",
    "        img.putpixel((x,y),(n_r,n_v,n_b))\n",
    "imshow(np.asarray(img))"
   ]
  },
  {
   "cell_type": "markdown",
   "metadata": {},
   "source": [
    "## À faire vous-même 10"
   ]
  },
  {
   "cell_type": "code",
   "execution_count": null,
   "metadata": {},
   "outputs": [],
   "source": [
    "from matplotlib.pyplot import imshow\n",
    "import numpy as np\n",
    "from PIL import Image\n",
    "%matplotlib inline\n",
    "\n",
    "img = Image.open(\"pomme.jpg\")\n",
    "largeur_image=500\n",
    "hauteur_image=500\n",
    "for y in range(hauteur_image):\n",
    "    for x in range(largeur_image):\n",
    "        r,v,b=img.getpixel((x,y))\n",
    "        n_r=v\n",
    "        n_v=b\n",
    "        n_b=r\n",
    "        img.putpixel((x,y),(n_r,n_v,n_b))\n",
    "imshow(np.asarray(img))"
   ]
  },
  {
   "cell_type": "markdown",
   "metadata": {},
   "source": [
    "## À faire vous-même 11"
   ]
  },
  {
   "cell_type": "code",
   "execution_count": null,
   "metadata": {},
   "outputs": [],
   "source": [
    "from matplotlib.pyplot import imshow\n",
    "import numpy as np\n",
    "from PIL import Image\n",
    "%matplotlib inline\n",
    "\n",
    "img = Image.open(\"pomme.jpg\")\n",
    "largeur_image=500\n",
    "hauteur_image=500\n",
    "for y in range(hauteur_image):\n",
    "    for x in range(largeur_image):\n",
    "        r,v,b=img.getpixel((x,y))\n",
    "        if b<200:\n",
    "            n_b=255-b\n",
    "        else :\n",
    "            n_b=b\n",
    "        img.putpixel((x,y),(r,v,n_b))\n",
    "imshow(np.asarray(img))"
   ]
  },
  {
   "cell_type": "markdown",
   "metadata": {},
   "source": [
    "## À faire vous-même 12"
   ]
  },
  {
   "cell_type": "code",
   "execution_count": null,
   "metadata": {},
   "outputs": [],
   "source": [
    "from matplotlib.pyplot import imshow\n",
    "import numpy as np\n",
    "from PIL import Image\n",
    "%matplotlib inline\n",
    "\n",
    "img = Image.open(\"pomme.jpg\")\n",
    "largeur_image=500\n",
    "hauteur_image=500\n",
    "for y in range(hauteur_image):\n",
    "    for x in range(largeur_image):\n",
    "        r,v,b=img.getpixel((x,y))\n",
    "        if v>100 and y>250:\n",
    "            n_v=0\n",
    "        else :\n",
    "            n_v=255\n",
    "        img.putpixel((x,y),(r,n_v,b))\n",
    "imshow(np.asarray(img))"
   ]
  }
 ],
 "metadata": {
  "kernelspec": {
   "display_name": "Python 3",
   "language": "python",
   "name": "python3"
  },
  "language_info": {
   "codemirror_mode": {
    "name": "ipython",
    "version": 3
   },
   "file_extension": ".py",
   "mimetype": "text/x-python",
   "name": "python",
   "nbconvert_exporter": "python",
   "pygments_lexer": "ipython3",
   "version": "3.7.3"
  }
 },
 "nbformat": 4,
 "nbformat_minor": 2
}

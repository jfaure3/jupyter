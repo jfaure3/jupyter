{
 "cells": [
  {
   "attachments": {
    "img_pixel.png": {
     "image/png": "[encoded data removed]"
    }
   },
   "cell_type": "markdown",
   "metadata": {},
   "source": [
    "# Traitement d'images\n",
    " Nous allons utiliser le langage de programmation Python afin de travailler directement sur les pixels d'une image. Par travailler sur les pixels, j'entends déterminer la valeur du canal rouge, la valeur du canal vert et la valeur du canal bleu pour un pixel donné ou bien encore modifier la couleur d'un pixel.\n",
    "\n",
    "Avant de commencer à écrire un programme qui nous permettra de travailler sur les pixels d'une image, il est nécessaire de préciser que chaque pixel a des coordonnées x,y. \n",
    "\n",
    "![img_pixel.png](attachment:img_pixel.png)\n",
    "\n",
    " Comme on peut le constater sur le schéma ci-dessus, le pixel de coordonnées (0,0) se trouve en haut à gauche de l'image. Si l'image fait 800 pixels de large et 600 pixels de haut, le pixel ayant pour coordonnées (400,300) sera au milieu de l'image.\n",
    "\n",
    "Dans un premier temps nous allons utiliser une simple photo de pomme pour faire nos premiers essais.\n",
    "\n",
    "Voici un premier programme : "
   ]
  },
  {
   "cell_type": "markdown",
   "metadata": {},
   "source": [
    "## À faire vous-même 1\n",
    "Tester le programme suivant"
   ]
  },
  {
   "cell_type": "code",
   "execution_count": null,
   "metadata": {},
   "outputs": [],
   "source": [
    "from PIL import Image\n",
    "img = Image.open(\"pomme.jpg\")\n",
    "r,v,b = img.getpixel((100,250))\n",
    "print(\"canal rouge : \",r,\"canal vert : \",v,\"canal bleu : \",b)"
   ]
  },
  {
   "cell_type": "markdown",
   "metadata": {},
   "source": [
    " Ce programme donne le canal rouge, le canal vert et le canal bleu du pixel de coordonnées (100,250) de l'image \"pomme.jpg\"\n",
    "\n",
    "Voici une analyse ligne par ligne du programme ci-dessus :\n",
    "\n",
    "- `from PIL import Image` : pour travailler sur les images nous avons besoin d'une extension de Python (appelée bibliothèque). Cette bibliothèque se nomme PIL (Pillow).\n",
    "- `img = Image.open(\"pomme.jpg\")` c'est grâce à cette ligne que nous précisons que nous allons travailler avec l'image \"pomme.jpg\". Pour travailler avec une autre image, il suffit de remplacer \"pomme.jpg\" par un autre nom (attention, le fichier image devra se trouver dans le même dossier que le ficher du programme Python).\n",
    "- `r,v,b=img.getpixel((100,250))` cette ligne récupère les valeurs du canal rouge (r), du canal vert (v) et du canal bleu (b) du pixel de coordonnées (100,250). Dans la suite du programme, r correspondra à la valeur du canal rouge, v correspondra à la valeur du canal vert et b correspondra à la valeur du canal bleu.\n",
    "- `print(\"canal rouge : \",r,\"canal vert : \",v,\"canal bleu : \",b)` permet d'afficher le résultat.\n"
   ]
  },
  {
   "cell_type": "markdown",
   "metadata": {},
   "source": [
    "## À faire vous-même 2\n",
    " Modifier le programme ci-dessous pour qu'il affiche les valeurs du canal rouge, du canal vert et du canal bleu du pixel de coordonnées (250,300), noter la réponse."
   ]
  },
  {
   "cell_type": "code",
   "execution_count": null,
   "metadata": {},
   "outputs": [],
   "source": [
    "from PIL import Image\n",
    "img = Image.open(\"pomme.jpg\")\n",
    "r,v,b = img.getpixel((100,250))\n",
    "print(\"canal rouge : \",r,\"canal vert : \",v,\"canal bleu : \",b)"
   ]
  },
  {
   "cell_type": "markdown",
   "metadata": {},
   "source": [
    "Il est possible de modifier les canaux RVB d'un pixel : "
   ]
  },
  {
   "cell_type": "markdown",
   "metadata": {},
   "source": [
    "## À faire vous-même 3\n",
    " Tester le programme suivant."
   ]
  },
  {
   "cell_type": "code",
   "execution_count": null,
   "metadata": {},
   "outputs": [],
   "source": [
    "from matplotlib.pyplot import imshow\n",
    "import numpy as np\n",
    "from PIL import Image\n",
    "%matplotlib inline\n",
    "\n",
    "img = Image.open(\"pomme.jpg\")\n",
    "img.putpixel((250,250),(255,0,0))\n",
    "imshow(np.asarray(img))"
   ]
  },
  {
   "cell_type": "markdown",
   "metadata": {},
   "source": [
    "En regardant attentivement le centre de l'image, on peut voir un pixel rouge à la place d'un pixel vert.\n",
    "\n",
    "Voici une analyse ligne par ligne du programme ci-dessus :\n",
    "\n",
    "- `img.putpixel((250,250),(255,0,0))` permet de colorier le pixel de coordonnées (250,250) en rouge (255,0,0).\n",
    "- `imshow(np.asarray(img))` permet d'afficher l'image modifiée\n"
   ]
  },
  {
   "cell_type": "markdown",
   "metadata": {},
   "source": [
    "## À faire vous-même 4\n",
    "Modifier le programme ci-dessous afin de colorier le pixel de coordonnées (100,250) en bleu."
   ]
  },
  {
   "cell_type": "code",
   "execution_count": null,
   "metadata": {},
   "outputs": [],
   "source": [
    "from matplotlib.pyplot import imshow\n",
    "import numpy as np\n",
    "from PIL import Image\n",
    "%matplotlib inline\n",
    "\n",
    "img = Image.open(\"pomme.jpg\")\n",
    "img.putpixel((250,250),(255,0,0))\n",
    "imshow(np.asarray(img))"
   ]
  },
  {
   "cell_type": "markdown",
   "metadata": {},
   "source": [
    "Modifiez un pixel c'est déjà bien, mais comment faire pour modifier plusieurs pixels ? La réponse est simple, nous allons utiliser des boucles `for`.\n",
    "Le but ici n'est pas de détailler le fonctionnement des boucles `for` en Python, il faut juste comprendre que grâce à ces boucles il vat-être possible de balayer toute l'image et ne plus se contenter de modifier les pixels un par un. "
   ]
  },
  {
   "cell_type": "markdown",
   "metadata": {},
   "source": [
    "## À faire vous-même 5\n",
    "Tester le programme suivant (l'exécution de ce programme n'est pas très intéressante en soi, mais permet de comprendre le parcours des pixels à l'aide de la double boucle `for`)"
   ]
  },
  {
   "cell_type": "code",
   "execution_count": null,
   "metadata": {},
   "outputs": [],
   "source": [
    "from matplotlib.pyplot import imshow\n",
    "import numpy as np\n",
    "from PIL import Image\n",
    "%matplotlib inline\n",
    "\n",
    "img = Image.open(\"pomme.jpg\")\n",
    "largeur_image = 500\n",
    "hauteur_image = 500\n",
    "for y in range(450,hauteur_image):\n",
    "    for x in range(495,largeur_image):\n",
    "        r, v, b = img.getpixel((x,y))\n",
    "        print(\"rouge : \",r,\"vert : \",v,\"bleu : \",b)\n",
    "print(\"fin\")"
   ]
  },
  {
   "cell_type": "markdown",
   "metadata": {},
   "source": [
    " Quelques commentaires sur ce programme :\n",
    "\n",
    "- On commence par définir les variables `largeur_image` et `hauteur_image` (`largeur_image=500` et `hauteur_image=500`). L'image \"pomme.jpg\" fait 500 pixels de large et 500 pixels de haut. Pour travailler avec une autre image, il faudra veiller à bien modifier la valeur de ces deux variables.\n",
    "\n",
    "- Les 2 boucles `for` nous permettent de parcourir l'ensemble des pixels de l'image : \n",
    "\n",
    "```for y in range(450,hauteur_image):\n",
    "    for x in range(495,largeur_image):\n",
    "        ...\n",
    "```\n",
    "\n",
    "- Le plus important ici est de bien comprendre que dans la suite du programme, les variables x et y vont permettre de parcourir l'ensemble des pixels de l'image : on commence avec le pixel de coordonnées (0,0), puis le pixel de coordonnées (1,0), puis le pixel de coordonnées (2,0)...jusqu'au pixel de coordonnées (499,0). Ensuite, on change de ligne avec le pixel de coordonnées (0,1), puis le pixel de coordonnées (1,1)...bref, le dernier pixel sera le pixel de coordonnées (499,499), tout cela grâce à la double boucle `for` !\n",
    "- `r,v,b=img.getpixel((x,y))` cette ligne ne devrait pas poser de problème, les coordonnées des pixels ont juste été remplécées par (x,y) afin de considérer l'ensemble des pixels de l'image.\n",
    "- `print(\"rouge : \",r,\"vert : \",v,\"bleu : \",b)` pour afficher les valeurs des canaux RVB pour chaque pixel de l'image.\n",
    "- `print(\"fin\")` ATTENTION cette ligne n'est pas dans la double boucle (pas de décalage), le mot \"fin\" ne sera donc affiché qu'une seule fois (après avoir parcouru l'ensemble des pixels).\n",
    "\n",
    "Compliquons un peu la chose en modifiant tous les pixels de l'image : "
   ]
  },
  {
   "cell_type": "markdown",
   "metadata": {},
   "source": [
    "## À faire vous-même 6\n",
    "Tester le programme suivant."
   ]
  },
  {
   "cell_type": "code",
   "execution_count": null,
   "metadata": {},
   "outputs": [],
   "source": [
    "from matplotlib.pyplot import imshow\n",
    "import numpy as np\n",
    "from PIL import Image\n",
    "%matplotlib inline\n",
    "\n",
    "img = Image.open(\"pomme.jpg\")\n",
    "largeur_image = 500\n",
    "hauteur_image = 500\n",
    "for y in range(hauteur_image):\n",
    "    for x in range(largeur_image):\n",
    "        r, v, b = img.getpixel((x,y))\n",
    "        n_r = v\n",
    "        n_v = b\n",
    "        n_b = r\n",
    "        img.putpixel((x,y),(n_r,n_v,n_b))\n",
    "imshow(np.asarray(img))"
   ]
  },
  {
   "cell_type": "markdown",
   "metadata": {},
   "source": [
    " Expliquer en quelques mots ce que fait ce programme. "
   ]
  },
  {
   "cell_type": "markdown",
   "metadata": {},
   "source": [
    "## À faire vous-même 7\n",
    " Modifier le programme ci-dessous pour qu'il inverse les valeurs des canaux bleu et rouge sans changer la valeur du canal vert. "
   ]
  },
  {
   "cell_type": "code",
   "execution_count": null,
   "metadata": {},
   "outputs": [],
   "source": [
    "from matplotlib.pyplot import imshow\n",
    "import numpy as np\n",
    "from PIL import Image\n",
    "%matplotlib inline\n",
    "\n",
    "img = Image.open(\"pomme.jpg\")\n",
    "largeur_image=500\n",
    "hauteur_image=500\n",
    "for y in range(hauteur_image):\n",
    "    for x in range(largeur_image):\n",
    "        r,v,b = img.getpixel((x,y))\n",
    "        n_r = v\n",
    "        n_v = b\n",
    "        n_b = r\n",
    "        img.putpixel((x,y),(n_r,n_v,n_b))\n",
    "imshow(np.asarray(img))"
   ]
  },
  {
   "cell_type": "markdown",
   "metadata": {},
   "source": [
    "## À faire vous-même 8\n",
    " Après avoir fait quelques recherches sur le \"négatif d'une image\", écrire un programme qui donne le négatif d'une image. "
   ]
  },
  {
   "cell_type": "code",
   "execution_count": null,
   "metadata": {},
   "outputs": [],
   "source": [
    "from matplotlib.pyplot import imshow\n",
    "import numpy as np\n",
    "from PIL import Image\n",
    "%matplotlib inline\n",
    "\n",
    "img = Image.open(\"pomme.jpg\")\n",
    "largeur_image = 500\n",
    "hauteur_image = 500\n",
    "for y in range(hauteur_image):\n",
    "    for x in range(largeur_image):\n",
    "        r, v, b = img.getpixel((x,y))\n",
    "        n_r = v\n",
    "        n_v = b\n",
    "        n_b = r\n",
    "        img.putpixel((x,y),(n_r,n_v,n_b))\n",
    "imshow(np.asarray(img))"
   ]
  },
  {
   "cell_type": "markdown",
   "metadata": {},
   "source": [
    "## À faire vous-même 9\n",
    " Après avoir fait quelques recherches sur les \"images en niveau de gris\", écrire un programme qui transforme une \"image couleur\" en une \"image en niveau de gris\".\n",
    "\n",
    "Petite astuce : en Python pour avoir une division entière (le résultat est un entier), il faut utiliser l'opérateur // à la place de l'opérateur / "
   ]
  },
  {
   "cell_type": "code",
   "execution_count": null,
   "metadata": {},
   "outputs": [],
   "source": [
    "from matplotlib.pyplot import imshow\n",
    "import numpy as np\n",
    "from PIL import Image\n",
    "%matplotlib inline\n",
    "\n",
    "img = Image.open(\"pomme.jpg\")\n",
    "largeur_image = 500\n",
    "hauteur_image = 500\n",
    "for y in range(hauteur_image):\n",
    "    for x in range(largeur_image):\n",
    "        r, v, b = img.getpixel((x,y))\n",
    "        n_r = v\n",
    "        n_v = b\n",
    "        n_b = r\n",
    "        img.putpixel((x,y),(n_r,n_v,n_b))\n",
    "imshow(np.asarray(img))"
   ]
  },
  {
   "cell_type": "markdown",
   "metadata": {},
   "source": [
    "## À faire vous-même 10\n",
    "Tester ce programme"
   ]
  },
  {
   "cell_type": "code",
   "execution_count": null,
   "metadata": {},
   "outputs": [],
   "source": [
    "from matplotlib.pyplot import imshow\n",
    "import numpy as np\n",
    "from PIL import Image\n",
    "%matplotlib inline\n",
    "\n",
    "img = Image.open(\"pomme.jpg\")\n",
    "largeur_image = 500\n",
    "hauteur_image = 500\n",
    "for y in range(hauteur_image):\n",
    "    for x in range(largeur_image):\n",
    "        r, v, b = img.getpixel((x,y))\n",
    "        if b < 200:\n",
    "            n_b = 255-b\n",
    "        else :\n",
    "            n_b = b\n",
    "        img.putpixel((x,y),(r,v,n_b))\n",
    "imshow(np.asarray(img))"
   ]
  },
  {
   "cell_type": "markdown",
   "metadata": {},
   "source": [
    " Expliquer en quelques mots ce que fait ce programme.\n",
    "\n",
    "Il est même possible de combiner plusieurs conditions : "
   ]
  },
  {
   "cell_type": "markdown",
   "metadata": {},
   "source": [
    "## À faire vous-même 12\n",
    "Tester le programme suivant"
   ]
  },
  {
   "cell_type": "code",
   "execution_count": null,
   "metadata": {},
   "outputs": [],
   "source": [
    "from matplotlib.pyplot import imshow\n",
    "import numpy as np\n",
    "from PIL import Image\n",
    "%matplotlib inline\n",
    "\n",
    "img = Image.open(\"pomme.jpg\")\n",
    "largeur_image = 500\n",
    "hauteur_image = 500\n",
    "for y in range(hauteur_image):\n",
    "    for x in range(largeur_image):\n",
    "        r, v, b = img.getpixel((x,y))\n",
    "        if v > 100 and y > 250:\n",
    "            n_v = 0\n",
    "        else :\n",
    "            n_v = 255\n",
    "        img.putpixel((x,y),(r,n_v,b))\n",
    "imshow(np.asarray(img))"
   ]
  },
  {
   "cell_type": "markdown",
   "metadata": {},
   "source": [
    " Expliquer en quelques mots ce que fait ce programme. "
   ]
  }
 ],
 "metadata": {
  "kernelspec": {
   "display_name": "Python 3",
   "language": "python",
   "name": "python3"
  },
  "language_info": {
   "codemirror_mode": {
    "name": "ipython",
    "version": 3
   },
   "file_extension": ".py",
   "mimetype": "text/x-python",
   "name": "python",
   "nbconvert_exporter": "python",
   "pygments_lexer": "ipython3",
   "version": "3.7.3"
  },
  "varInspector": {
   "cols": {
    "lenName": 16,
    "lenType": 16,
    "lenVar": 40
   },
   "kernels_config": {
    "python": {
     "delete_cmd_postfix": "",
     "delete_cmd_prefix": "del ",
     "library": "var_list.py",
     "varRefreshCmd": "print(var_dic_list())"
    },
    "r": {
     "delete_cmd_postfix": ") ",
     "delete_cmd_prefix": "rm(",
     "library": "var_list.r",
     "varRefreshCmd": "cat(var_dic_list()) "
    }
   },
   "types_to_exclude": [
    "module",
    "function",
    "builtin_function_or_method",
    "instance",
    "_Feature"
   ],
   "window_display": false
  }
 },
 "nbformat": 4,
 "nbformat_minor": 2
}

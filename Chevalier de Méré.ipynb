{
 "cells": [
  {
   "cell_type": "markdown",
   "metadata": {},
   "source": [
    "# Question du chevalier de Méré\n",
    "Est-il avantageux, lorsqu'on joue au dé, de parier sur l'apparition d'un 6 en lançant 4 fois le dé? "
   ]
  },
  {
   "cell_type": "code",
   "execution_count": 9,
   "metadata": {},
   "outputs": [
    {
     "data": {
      "text/plain": [
       "0.51976"
      ]
     },
     "execution_count": 9,
     "metadata": {},
     "output_type": "execute_result"
    }
   ],
   "source": [
    "from random import randint\n",
    "def simulation(n):\n",
    "    \"\"\"renvoie la fréquence des réussites \n",
    "    (apparition d'au moins un 6 sur 4 lancers)\"\"\"\n",
    "    c = 0 #accumulateur du nombre de réussites\n",
    "    for i in range(n):\n",
    "        nb6 = 0 #accumulateur du nombre de 6\n",
    "        for j in range(4):\n",
    "            if randint(1,6) == 6:\n",
    "                nb6 = nb6 + 1\n",
    "        if nb6 >= 1:\n",
    "            c = c + 1 #on enregistre une réussite\n",
    "        nb6 = 0 #on remet le compteur à 0\n",
    "    return c / n\n",
    "simulation(100_000)"
   ]
  }
 ],
 "metadata": {
  "kernelspec": {
   "display_name": "Python 3",
   "language": "python",
   "name": "python3"
  },
  "language_info": {
   "codemirror_mode": {
    "name": "ipython",
    "version": 3
   },
   "file_extension": ".py",
   "mimetype": "text/x-python",
   "name": "python",
   "nbconvert_exporter": "python",
   "pygments_lexer": "ipython3",
   "version": "3.7.3"
  },
  "varInspector": {
   "cols": {
    "lenName": 16,
    "lenType": 16,
    "lenVar": 40
   },
   "kernels_config": {
    "python": {
     "delete_cmd_postfix": "",
     "delete_cmd_prefix": "del ",
     "library": "var_list.py",
     "varRefreshCmd": "print(var_dic_list())"
    },
    "r": {
     "delete_cmd_postfix": ") ",
     "delete_cmd_prefix": "rm(",
     "library": "var_list.r",
     "varRefreshCmd": "cat(var_dic_list()) "
    }
   },
   "types_to_exclude": [
    "module",
    "function",
    "builtin_function_or_method",
    "instance",
    "_Feature"
   ],
   "window_display": false
  }
 },
 "nbformat": 4,
 "nbformat_minor": 2
}

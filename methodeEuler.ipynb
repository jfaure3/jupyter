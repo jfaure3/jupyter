{
 "cells": [
  {
   "cell_type": "markdown",
   "metadata": {},
   "source": [
    "# Méthode d'Euler appliquée à la fonction exponentielle"
   ]
  },
  {
   "cell_type": "markdown",
   "metadata": {},
   "source": [
    "## 1. Construire la courbe $y=\\exp(x)$ \n"
   ]
  },
  {
   "attachments": {
    "approx_affine.png": {
     "image/png": "[encoded data removed]"
    }
   },
   "cell_type": "markdown",
   "metadata": {},
   "source": [
    ">La fonction exponentielle (notée $\\exp$) est définie comme l'unique fonction $f$ telle que $f(0)=1$ et pour tout réel $x$, $f'(x)=f(x)$.\n",
    "\n",
    ">On pose $\\exp(1)=\\mathrm e$.\n",
    "\n",
    "Soit $f$ une fonction définie sur **R**, alors la tangente en $a$ à sa courbe $\\mathscr C_f$ a pour équation : $T_a:y=f'(a)(x-a)+f(a)$\n",
    "\n",
    "La tangente, au voisinage du point d'abscisse $a$ approche assez bien la courbe $\\mathscr C_f$ on peut donc écrire, pour $x$ assez proche de $a$ : $$f(x)\\approx f'(a)(x-a)+f(a)$$\n",
    "donc, en prenant $x=a+h$ avec $h$ assez petit : $$f(a+h)\\approx f'(a)\\times h+f(a)$$\n",
    "Ce qui signifie que, connaissant $f(a)$ et $f'(a)$, on peut déterminer une valeur approchée de $f(a+h)$ d'autant plus précise que $h$ est petit.\n",
    "\n",
    "![approx_affine.png](attachment:approx_affine.png)\n",
    "\n",
    "Pour la fonction exponentielle, c'est encore plus simple car pour tout réel $a$, $f'(a)=f(a)$ donc$$f(a+h)\\approx f(a)\\times h +f(a)=f(a)(1+h)$$"
   ]
  },
  {
   "cell_type": "markdown",
   "metadata": {},
   "source": [
    "### Compléter les pointillés"
   ]
  },
  {
   "cell_type": "code",
   "execution_count": null,
   "metadata": {},
   "outputs": [],
   "source": [
    "%matplotlib inline\n",
    "import matplotlib.pyplot as plt\n",
    "from math import exp\n",
    "def methode_Euler(n):\n",
    "    \"\"\"Trace la courbe de la fonction exponentielle sur n points\n",
    "    pour x compris entre 0 et 3\"\"\"\n",
    "    X, Y = [], []\n",
    "    #Pour les abscisses positives\n",
    "    x, y = 0, 1 #par définition exp(0)=1\n",
    "    for _ in range(n):\n",
    "        X.append(x)\n",
    "        Y.append(y)\n",
    "        x = x + ...\n",
    "        y = y * ...\n",
    "    Yexp = [exp(x) for x in X]\n",
    "    \n",
    "    plt.figure(figsize=(10,10))\n",
    "    plt.grid(True)\n",
    "    #plt.ylim(0.45,0.55)\n",
    "    plt.plot(X,Y,'r.')\n",
    "    plt.plot(X,Yexp,'b.')\n",
    "    plt.show()\n",
    "\n",
    "    \n",
    "methode_Euler(100)"
   ]
  },
  {
   "cell_type": "markdown",
   "metadata": {},
   "source": [
    "## 2. $\\lim\\limits_{n\\to+\\infty}\\left(1+\\frac1n\\right)^n=\\mathrm e$\n",
    "On applique la méthode d'Euler entre 0 et 1 avec $n$ points.\n",
    "\n",
    "Appelons $x_i$ et $y_i$ les coordonnées de ces points, alors,\n",
    "\n",
    "$$x_{i+1} = x_i+\\frac1n\\text{ et } y_{i+1}=y_i\\left(1+\\frac1n\\right)$$\n",
    "$x_i$ est donc une suite arithmétique de raison $\\frac1n$ et de premier terme 0\n",
    "\n",
    "$y_i$ est donc une suite géométrique de raison $1+\\frac1n$ et de premier terme 1\n",
    "\n",
    "ainsi $x_i=0+i\\times\\frac1n$ donc, en particulier pour $i=n$, $x_n=1$\n",
    "\n",
    "ainsi $y_i=1\\times\\left(1+\\frac1n\\right)^i$ donc, en particulier pour $i=n$, $y_n=\\left(1+\\frac1n\\right)^n$\n",
    "\n",
    "Par construction on a donc $\\lim\\limits_{n\\to+\\infty}\\left(1+\\frac1n\\right)^n=\\mathrm e$.\n"
   ]
  },
  {
   "cell_type": "markdown",
   "metadata": {},
   "source": [
    "### Compléter la fonction suivante"
   ]
  },
  {
   "cell_type": "code",
   "execution_count": null,
   "metadata": {},
   "outputs": [],
   "source": [
    "from math import exp\n",
    "def approximation_e(epsilon):\n",
    "    \"\"\"renvoie l'indice à partir duquel les termes sont dans l'intervalle [e - epsilon ; e + epsilon]\"\"\"\n",
    "    n = 1\n",
    "    y = 1\n",
    "    while ...:\n",
    "        y = ...\n",
    "        n = ...\n",
    "    return n\n",
    "    \n",
    "approximation_e(0.01)"
   ]
  }
 ],
 "metadata": {
  "kernelspec": {
   "display_name": "Python 3",
   "language": "python",
   "name": "python3"
  },
  "language_info": {
   "codemirror_mode": {
    "name": "ipython",
    "version": 3
   },
   "file_extension": ".py",
   "mimetype": "text/x-python",
   "name": "python",
   "nbconvert_exporter": "python",
   "pygments_lexer": "ipython3",
   "version": "3.7.3"
  },
  "varInspector": {
   "cols": {
    "lenName": 16,
    "lenType": 16,
    "lenVar": 40
   },
   "kernels_config": {
    "python": {
     "delete_cmd_postfix": "",
     "delete_cmd_prefix": "del ",
     "library": "var_list.py",
     "varRefreshCmd": "print(var_dic_list())"
    },
    "r": {
     "delete_cmd_postfix": ") ",
     "delete_cmd_prefix": "rm(",
     "library": "var_list.r",
     "varRefreshCmd": "cat(var_dic_list()) "
    }
   },
   "types_to_exclude": [
    "module",
    "function",
    "builtin_function_or_method",
    "instance",
    "_Feature"
   ],
   "window_display": false
  }
 },
 "nbformat": 4,
 "nbformat_minor": 2
}

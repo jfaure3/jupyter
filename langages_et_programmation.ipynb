{
 "cells": [
  {
   "cell_type": "code",
   "execution_count": 2,
   "metadata": {},
   "outputs": [],
   "source": [
    "import doctest #permet d'automatiser des tests unitaire"
   ]
  },
  {
   "cell_type": "markdown",
   "metadata": {},
   "source": [
    "# Quelques méthodes Agile"
   ]
  },
  {
   "cell_type": "markdown",
   "metadata": {},
   "source": [
    "## XP : Extreme Programming \n",
    ">Intégration en continu, tests en continu, on n'apporte que des améliorations\n"
   ]
  },
  {
   "cell_type": "markdown",
   "metadata": {},
   "source": [
    "\n",
    "### Test Driven Developpement (TDD) : on pense les tests unitaires en premier\n",
    "\n",
    "> On écrit un test pour confronter une réalisation à sa spécification. Le test définit un critère d'arrêt (état ou sorties à l'issue de l'exécution) et permet de statuer sur le succès ou sur l'échec d'une vérification. Grâce à la spécification, on est en mesure de faire correspondre un état d'entrée donné à un résultat ou à une sortie. Le test permet de vérifier que la relation d'entrée / sortie donnée par la spécification est bel et bien réalisée. \n",
    "\n",
    "**Les tests unitaires permettent de trouver les erreurs rapidement**\n",
    "> La méthode **XP** préconise d'écrire les tests en même temps, ou même avant la fonction à tester. Ceci permet de définir précisément l'interface du module à développer. Les tests sont exécutés durant tout le développement, permettant de visualiser si le code fraîchement écrit correspond au besoin.\n",
    "\n",
    "**Sécurisent la maintenance**\n",
    "> Lors d'une modification d'un programme, les tests unitaires signalent les éventuelles régressions. En effet, certains tests peuvent échouer à la suite d'une modification, il faut donc soit réécrire le test pour le faire correspondre aux nouvelles attentes, soit corriger l'erreur se situant dans le code.\n",
    "\n",
    "**Documentent le code**\n",
    "> Les tests unitaires peuvent servir de complément à l'API (interface de programmation d'application), il est très utile de lire les tests pour comprendre comment s'utilise une méthode. De plus, il est possible que la documentation ne soit plus à jour, mais les tests eux correspondent à la réalité de l'application. \n",
    "\n",
    "### Pair programming\n",
    ">Un clavier pour deux, celui qui l'a code, l'autre réfléchit. On échange les rôle toutes les demies-heures par exemple.\n",
    "\n"
   ]
  },
  {
   "cell_type": "markdown",
   "metadata": {},
   "source": [
    "## Scrum (mêlée) s'organise autour"
   ]
  },
  {
   "cell_type": "markdown",
   "metadata": {},
   "source": [
    "\n",
    "**des sprints**\n",
    ">organisation mise en oeuvre pour livrer chaque élément du produit.\n",
    "\n",
    "**des tâches** \n",
    ">décrites dans des user stories (en tant que : qui, je veux : quoi, afin de : pour) traduites en besoin élémentaires sur des post-it collés sur un tableau : \n",
    "\n",
    "| stories | to do | en cours | test | done |\n",
    "| ---     | ---   | ---      | ---  | ---  |\n",
    "| ... | ☐☐☐☐ | ☐ |  ☐| |\n",
    "| ... | ☐☐ | ☐ |  ☐| ☐| ☐☐|\n",
    "| ... | ☐  | ☐ |  ☐|☐☐ | ☐☐☐ |\n",
    "\n",
    "**des daily scrums**\n",
    ">réunions quotidiennes de 15 min où l'on affiche l'avancement de chaque tâche sur un tableau blanc. Chaque membre aborde ce qu'il a réalisé la veille, ce qu'il compte réaliser le jour même pour atteindre l'objet du sprint, les obstacles qui empêchent l'équipe d'atteindre le but du sprint."
   ]
  },
  {
   "cell_type": "markdown",
   "metadata": {},
   "source": [
    "# Langages et programmation"
   ]
  },
  {
   "cell_type": "markdown",
   "metadata": {},
   "source": [
    "## Constructions élémentaires"
   ]
  },
  {
   "cell_type": "markdown",
   "metadata": {},
   "source": [
    "### Les messages de l'interpréteur Python, analyse d'erreurs"
   ]
  },
  {
   "cell_type": "markdown",
   "metadata": {},
   "source": [
    "Exécuter le code des cellules suivantes. Analyser les erreurs avec les indications de l'interpréteur s'il y en a."
   ]
  },
  {
   "cell_type": "code",
   "execution_count": null,
   "metadata": {},
   "outputs": [],
   "source": [
    "1 - * 2"
   ]
  },
  {
   "cell_type": "code",
   "execution_count": null,
   "metadata": {},
   "outputs": [],
   "source": [
    "2 / (3 - 3)"
   ]
  },
  {
   "cell_type": "code",
   "execution_count": null,
   "metadata": {},
   "outputs": [],
   "source": [
    "toto + 1"
   ]
  },
  {
   "cell_type": "code",
   "execution_count": null,
   "metadata": {},
   "outputs": [],
   "source": [
    "3 = 3"
   ]
  },
  {
   "cell_type": "code",
   "execution_count": null,
   "metadata": {},
   "outputs": [],
   "source": [
    "'2' + 3"
   ]
  },
  {
   "cell_type": "code",
   "execution_count": null,
   "metadata": {},
   "outputs": [],
   "source": [
    "1,2 * 3"
   ]
  },
  {
   "cell_type": "code",
   "execution_count": null,
   "metadata": {},
   "outputs": [],
   "source": [
    "1,2 + 3,4"
   ]
  },
  {
   "cell_type": "code",
   "execution_count": null,
   "metadata": {},
   "outputs": [],
   "source": [
    "0.1 * 3 == 0.3"
   ]
  },
  {
   "cell_type": "markdown",
   "metadata": {},
   "source": [
    "### Les variables"
   ]
  },
  {
   "cell_type": "markdown",
   "metadata": {},
   "source": [
    ">Les variables en Python sont des noms donnés à des cases mémoire. Les variables en mathématiques et en informatique sont donc très différentes.\n",
    "\n",
    ">Un nom de variable ne peut pas commencer par un chiffre, on ne peut pas non plus prendre comme nom un mot-clé existant (```range, for, while, def, list, dict...```)"
   ]
  },
  {
   "cell_type": "code",
   "execution_count": null,
   "metadata": {},
   "outputs": [],
   "source": [
    "def = 3"
   ]
  },
  {
   "cell_type": "code",
   "execution_count": null,
   "metadata": {},
   "outputs": [],
   "source": [
    "1jour = 2"
   ]
  },
  {
   "cell_type": "markdown",
   "metadata": {},
   "source": [
    ">Pour les noms de variables et de fonctions il est d'usage d'écrire ```ma_variable``` et ```ma_fonction```\n",
    "\n",
    ">Pour les noms de classes il faut écrire :  ```MaClasse```.\n",
    "\n",
    "Dans la cellule ci-dessous, l'instruction ```tata = 5**3``` est exécutée par l'interpréteur Python en deux temps :\n",
    "* Tout d'abord ```5**3``` est évalué (125) \n",
    "* puis le résultat est rangé dans la case mémoire dont l'adresse est ```tata```\n",
    "\n",
    "C'est aini que l'affectation ```tata = tata + 2``` a du sens."
   ]
  },
  {
   "cell_type": "code",
   "execution_count": null,
   "metadata": {},
   "outputs": [],
   "source": [
    "tata = 5**3\n",
    "print(tata)\n",
    "tata = tata + 2\n",
    "print(tata)"
   ]
  },
  {
   "cell_type": "markdown",
   "metadata": {},
   "source": [
    "### Le signe ```=```"
   ]
  },
  {
   "cell_type": "markdown",
   "metadata": {},
   "source": [
    ">En Python, le signe ```=``` correspond à une affectation (rangement d'un objet dans une case mémoire). En mathématiques, cela pourrait correspondre à ```R = 3``` donné comme hypothèse dans un problème.\n",
    "\n",
    ">Le signe égal correspondant au signe de l'équation mathématique s'écrit en Python ```==```\n"
   ]
  },
  {
   "cell_type": "code",
   "execution_count": null,
   "metadata": {},
   "outputs": [],
   "source": [
    "a = 12"
   ]
  },
  {
   "cell_type": "code",
   "execution_count": null,
   "metadata": {},
   "outputs": [],
   "source": [
    "a == 6 * 2"
   ]
  },
  {
   "cell_type": "markdown",
   "metadata": {},
   "source": [
    "### Les fonctions"
   ]
  },
  {
   "cell_type": "markdown",
   "metadata": {},
   "source": [
    ">Elles permettent de donner un nom à un bloc d'instructions alors appelé **corps de la fonction**.\n",
    "\n",
    ">l'instruction ```return toto``` permet de sortir de la fonction et de renvoyer la valeur de la variable ```toto```"
   ]
  },
  {
   "cell_type": "code",
   "execution_count": null,
   "metadata": {},
   "outputs": [],
   "source": [
    "def est_premier(n):\n",
    "    \"\"\"Renvoie si n est premier\n",
    "    >>> est_premier(0)\n",
    "    False\n",
    "    >>> est_premier(1)\n",
    "    False\n",
    "    >>> est_premier(13)\n",
    "    True\n",
    "    >>> est_premier(12)\n",
    "    False\"\"\"\n",
    "    if n <= 2: return False\n",
    "    for k in range(2, n):\n",
    "        if n % k == 0: return False\n",
    "    return True\n",
    "doctest.run_docstring_examples(est_premier, globals())"
   ]
  },
  {
   "cell_type": "markdown",
   "metadata": {},
   "source": [
    "### la boucle ```for```"
   ]
  },
  {
   "attachments": {
    "yin_yang.png": {
     "image/png": "[encoded data removed]"
    }
   },
   "cell_type": "markdown",
   "metadata": {},
   "source": [
    ">Commenter chaque ligne de la fonction ```yin_yang``` pour expliquer clairement les instructions. Pour obtenir des informations sur une fonction inconnue, a cellule en dessous de la fonction pourra être utilisée pour exécuter la commande ```help(fonction_inconnue)```.\n",
    "\n",
    "![yin_yang.png](attachment:yin_yang.png)"
   ]
  },
  {
   "cell_type": "code",
   "execution_count": null,
   "metadata": {},
   "outputs": [],
   "source": [
    "from turtle import *\n",
    "\n",
    "speed('fastest')\n",
    "\n",
    "def yin_yang(r):\n",
    "    \"\"\"dessine le symbole de rayon r\"\"\"\n",
    "    ht()\n",
    "    color((0,0,0),(0,0,0))\n",
    "    begin_fill()\n",
    "    circle(r, 180)\n",
    "    circle(r/2, 180)\n",
    "    circle(-r/2, 180)\n",
    "    end_fill()\n",
    "    circle(-r, 180)\n",
    "    up()\n",
    "    right(90)\n",
    "    forward(r / 2)\n",
    "    dot(r / 4, 'white')\n",
    "    forward(r)\n",
    "    dot(r / 4, 'black')\n",
    "    forward(r / 2)\n",
    "    left(90)\n",
    "yin_yang(100)\n",
    "mainloop() #Permet de garder la main sur la fenêtre de dessin"
   ]
  },
  {
   "cell_type": "code",
   "execution_count": null,
   "metadata": {},
   "outputs": [],
   "source": [
    "help(...)"
   ]
  },
  {
   "attachments": {
    "yin_yang2.png": {
     "image/png": "[encoded data removed]"
    }
   },
   "cell_type": "markdown",
   "metadata": {},
   "source": [
    ">Reproduire ce dessin en utilisant une boucle ```for```\n",
    "\n",
    "![yin_yang2.png](attachment:yin_yang2.png)"
   ]
  },
  {
   "cell_type": "code",
   "execution_count": null,
   "metadata": {},
   "outputs": [],
   "source": [
    "speed('fastest')\n",
    "for _ in range(9): #On utilise _ si on n'a pas besoin de la variable de parcours deboucle\n",
    "    ...\n",
    "mainloop() #Permet de garder la main sur la fenêtre de dessin"
   ]
  },
  {
   "attachments": {
    "yin_yang3.png": {
     "image/png": "[encoded data removed]"
    }
   },
   "cell_type": "markdown",
   "metadata": {},
   "source": [
    ">Reproduire ce dessin en utilisant une boucle ```for```\n",
    "\n",
    "![yin_yang3.png](attachment:yin_yang3.png)"
   ]
  },
  {
   "cell_type": "code",
   "execution_count": null,
   "metadata": {},
   "outputs": [],
   "source": [
    "speed('fastest')\n",
    "for k in range(9):\n",
    "    yin_yang(100/(1+k))\n",
    "    ...\n",
    "mainloop() #Permet de garder la main sur la fenêtre de dessin"
   ]
  },
  {
   "cell_type": "markdown",
   "metadata": {},
   "source": [
    "**Notion d'accumulateur**\n",
    ">Un accumulateur est une variable dont la valeur progresse à chaque tour de boucle : \n",
    "\n",
    "**Compléter les fonctions suivantes**"
   ]
  },
  {
   "cell_type": "code",
   "execution_count": null,
   "metadata": {},
   "outputs": [],
   "source": [
    "def somme_premiers_carrés(n):\n",
    "    \"\"\"renvoie la somme des carrés des n premiers entiers\n",
    "    >>> somme_premiers_carrés(0)\n",
    "    0\n",
    "    >>> somme_premiers_carrés(2)\n",
    "    5\n",
    "    >>> somme_premiers_carrés(1)\n",
    "    1\"\"\"\n",
    "    ...\n",
    "doctest.run_docstring_examples(somme_premiers_carrés, globals())    "
   ]
  },
  {
   "cell_type": "code",
   "execution_count": null,
   "metadata": {},
   "outputs": [],
   "source": [
    "def fibonacci(n):\n",
    "    \"\"\"renvoie le n-ième terme de la suite de Fibonacci\n",
    "    >>> fibonacci(0)\n",
    "    1\n",
    "    >>> fibonacci(4)\n",
    "    5\n",
    "    >>> fibonacci(1)\n",
    "    1\"\"\"\n",
    "    ...\n",
    "doctest.run_docstring_examples(fibonacci, globals())    "
   ]
  },
  {
   "cell_type": "markdown",
   "metadata": {},
   "source": [
    "### Les tests\n",
    "> ils permettent d'exécuter un bloc d'instruction sous certaines conditions\n",
    "\n",
    "| syntaxe 1 | syntaxe 2 | syntaxe 3 |\n",
    "| ---      | ---       | --- |\n",
    "|```if P:```| ```if P:``` | ```if P:```|\n",
    "|   ...    | ```else:``` | ```elif P':```|\n",
    "|   ...    | ...          | ```else:```|\n",
    "\n",
    "**Compléter la fonction suivante**"
   ]
  },
  {
   "cell_type": "code",
   "execution_count": null,
   "metadata": {},
   "outputs": [],
   "source": [
    "def annee_bissextile(annee):\n",
    "    \"\"\"renvoie True si annee est bissextile, False autrement\n",
    "    >>> annee_bissextile(2019)\n",
    "    False\n",
    "    >>> annee_bissextile(2000)\n",
    "    True\n",
    "    >>> annee_bissextile(2020)\n",
    "    True\n",
    "    >>> annee_bissextile(2100)\n",
    "    False\n",
    "    \"\"\"\n",
    "    ...\n",
    "doctest.run_docstring_examples(annee_bissextile, globals())        "
   ]
  },
  {
   "cell_type": "markdown",
   "metadata": {},
   "source": [
    "### la boucle ```While```\n",
    ">Elle permet de répéter un bloc d'instructions sous certaines conditions.\n",
    "\n",
    ">Pour forcer la sortie de la boucle, on peut utiliser l'instruction ```break```\n",
    "\n",
    "\n",
    "**Compléter la fonction suivante :**"
   ]
  },
  {
   "cell_type": "code",
   "execution_count": 41,
   "metadata": {},
   "outputs": [],
   "source": [
    "def seuil_depassement(seuil):\n",
    "    \"\"\"renvoie l'indice à partir duquel \n",
    "    la somme des inverses des premiers entiers est supérieure ou égale à seuil\n",
    "    >>> seuil_depassement(1.5)\n",
    "    2\n",
    "    >>> seuil_depassement(2.5)\n",
    "    7\"\"\"\n",
    "    n = 1\n",
    "    s = 0\n",
    "    while s < seuil:\n",
    "        ...\n",
    "    return ...\n",
    "doctest.run_docstring_examples(seuil_depassement, globals())         "
   ]
  },
  {
   "cell_type": "markdown",
   "metadata": {},
   "source": [
    ">Une boucle while peut **diverger**, c'est à dire ne jamais s'arréter. Cela peut être utile, mais si ce n'est pas ce que l'on veut, il faut s'assurer de sa **terminaison**."
   ]
  },
  {
   "cell_type": "markdown",
   "metadata": {},
   "source": [
    "# Algorithmique"
   ]
  },
  {
   "cell_type": "markdown",
   "metadata": {},
   "source": [
    "**Division euclidienne d'entiers naturels**\n",
    "\n",
    "Soit $a, b$ deux entiers naturels avec $b\\neq0$\n",
    "\n",
    "Alors il existe un unique couple d'entiers $(q, r)$ tel que \n",
    "$$\\begin{cases}a=bq+r\\\\ 0\\leqslant r < b\\end{cases}$$\n",
    "\n",
    ">Un premier algorithme simple pourrait consister à partir de $a$ puis à enlever à $a$ un certain nombre de fois $b$ pour qu'à la fin on ne puisse plus \"partager\".  "
   ]
  },
  {
   "cell_type": "markdown",
   "metadata": {},
   "source": [
    "## Préconditions sur les arguments"
   ]
  },
  {
   "cell_type": "code",
   "execution_count": 11,
   "metadata": {},
   "outputs": [],
   "source": [
    "def div_euclid(a, b):\n",
    "    \"\"\"renvoie le tuple (q, r) pour a et b entiers naturels\n",
    "    >>> div_euclid(14, 3)\n",
    "    (4, 2)\n",
    "    >>> div_euclid(20, 5)\n",
    "    (4, 0)\n",
    "    >>> div_euclid(11,0)\n",
    "    \"\"\"\n",
    "    if b == 0:\n",
    "        return None\n",
    "    q, r = 0, a\n",
    "    while r >= b:\n",
    "        q, r = q + 1, r - b\n",
    "    return (q, r)\n",
    "doctest.run_docstring_examples(div_euclid, globals())    "
   ]
  },
  {
   "cell_type": "code",
   "execution_count": null,
   "metadata": {},
   "outputs": [],
   "source": [
    "div_euclid(2.5,4)"
   ]
  },
  {
   "cell_type": "markdown",
   "metadata": {},
   "source": [
    "## Postconditions sur les résultats"
   ]
  },
  {
   "cell_type": "code",
   "execution_count": null,
   "metadata": {},
   "outputs": [],
   "source": [
    "def div_euclid(a, b):\n",
    "    \"\"\"renvoie le tuple (q, r) pour a et b entiers naturels\n",
    "    >>> div_euclid(14, 3)\n",
    "    (4, 2)\n",
    "    >>> div_euclid(20, 5)\n",
    "    (4, 0)\n",
    "    >>> div_euclid(11,0)\n",
    "    \"\"\"\n",
    "    if b == 0:\n",
    "        return None\n",
    "    q, r = 0, a\n",
    "    while r >= b:\n",
    "        q, r = q + 1, r - b\n",
    "    return (q, r)\n",
    "doctest.run_docstring_examples(div_euclid, globals())    "
   ]
  },
  {
   "cell_type": "markdown",
   "metadata": {},
   "source": [
    "## Variant de boucle"
   ]
  },
  {
   "cell_type": "code",
   "execution_count": 3,
   "metadata": {},
   "outputs": [],
   "source": [
    "def div_euclid(a, b):\n",
    "    \"\"\"renvoie le tuple (q, r) pour a et b entiers naturels\n",
    "    >>> div_euclid(14, 3)\n",
    "    (4, 2)\n",
    "    >>> div_euclid(20, 5)\n",
    "    (4, 0)\n",
    "    >>> div_euclid(11,0)\n",
    "    \"\"\"\n",
    "    if b == 0:\n",
    "        return None\n",
    "    q, r = 0, a\n",
    "    while r >= b:\n",
    "        #variant = r\n",
    "        q, r = q + 1, r - b\n",
    "        #assert 0 <= r < variant and isinstance(r, int), \"condition du variant non respectée\"\n",
    "        #assert a == b * q + r and r >= 0, \"l'invariant n'est pas respecté\"\n",
    "    return (q, r)\n",
    "doctest.run_docstring_examples(div_euclid, globals())    "
   ]
  },
  {
   "cell_type": "markdown",
   "metadata": {},
   "source": [
    "## Invariant de boucle"
   ]
  },
  {
   "cell_type": "code",
   "execution_count": null,
   "metadata": {},
   "outputs": [],
   "source": [
    "def div_euclid(a, b):\n",
    "    \"\"\"renvoie le tuple (q, r) pour a et b entiers naturels\n",
    "    >>> div_euclid(14, 3)\n",
    "    (4, 2)\n",
    "    >>> div_euclid(20, 5)\n",
    "    (4, 0)\n",
    "    >>> div_euclid(11,0)\n",
    "    \"\"\"\n",
    "    if b == 0:\n",
    "        return None\n",
    "    q, r = 0, a\n",
    "    while r >= b:\n",
    "        #variant = r\n",
    "        q, r = q + 1, r - b\n",
    "        #assert 0 <= r < variant and isinstance(r, int), \"condition du variant non respectée\"\n",
    "        #assert a == b * q + r and r >= 0, \"l'invariant n'est pas respecté\"\n",
    "    return (q, r)\n",
    "doctest.run_docstring_examples(div_euclid, globals())    "
   ]
  },
  {
   "cell_type": "code",
   "execution_count": 59,
   "metadata": {},
   "outputs": [
    {
     "name": "stdout",
     "output_type": "stream",
     "text": [
      "6.938 18\n"
     ]
    }
   ],
   "source": [
    "def plus_grande_suite(liste):\n",
    "    \"\"\"retourne la taille de la plus grande séquence d'un même nombre dans liste\n",
    "    >>> plus_grande_suite([])\n",
    "    0\n",
    "    >>> plus_grande_suite([1,2,3,3,3])\n",
    "    3\n",
    "    >>> plus_grande_suite([1,2,3,4,5,6])\n",
    "    1\n",
    "    >>> plus_grande_suite([1,1,1,2,2,3])\n",
    "    3\"\"\"\n",
    "    longueur_max = 0\n",
    "    compteur = 1\n",
    "    if liste == []:\n",
    "        return 0\n",
    "    for k in range(len(liste)-1):\n",
    "        if liste[k] == liste[k+1]:\n",
    "            compteur += 1\n",
    "        else:\n",
    "            longueur_max = max(longueur_max, compteur)\n",
    "            compteur = 1\n",
    "    longueur_max = max(longueur_max, compteur)\n",
    "    return longueur_max\n",
    "        \n",
    "doctest.run_docstring_examples(plus_grande_suite, globals())\n",
    "import random, numpy\n",
    "L = [plus_grande_suite([random.randint(1,2) for _ in range(100)]) for _ in range(1000)]\n",
    "print(numpy.mean(L),max(L))"
   ]
  }
 ],
 "metadata": {
  "kernelspec": {
   "display_name": "Python 3",
   "language": "python",
   "name": "python3"
  },
  "language_info": {
   "codemirror_mode": {
    "name": "ipython",
    "version": 3
   },
   "file_extension": ".py",
   "mimetype": "text/x-python",
   "name": "python",
   "nbconvert_exporter": "python",
   "pygments_lexer": "ipython3",
   "version": "3.7.3"
  },
  "varInspector": {
   "cols": {
    "lenName": 16,
    "lenType": 16,
    "lenVar": 40
   },
   "kernels_config": {
    "python": {
     "delete_cmd_postfix": "",
     "delete_cmd_prefix": "del ",
     "library": "var_list.py",
     "varRefreshCmd": "print(var_dic_list())"
    },
    "r": {
     "delete_cmd_postfix": ") ",
     "delete_cmd_prefix": "rm(",
     "library": "var_list.r",
     "varRefreshCmd": "cat(var_dic_list()) "
    }
   },
   "oldHeight": 96.85,
   "position": {
    "height": "118.85px",
    "left": "1478px",
    "right": "20px",
    "top": "120px",
    "width": "355px"
   },
   "types_to_exclude": [
    "module",
    "function",
    "builtin_function_or_method",
    "instance",
    "_Feature"
   ],
   "varInspector_section_display": "block",
   "window_display": true
  }
 },
 "nbformat": 4,
 "nbformat_minor": 2
}

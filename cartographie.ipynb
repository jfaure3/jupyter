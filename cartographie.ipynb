{
 "cells": [
  {
   "cell_type": "markdown",
   "metadata": {},
   "source": [
    "# Cartographie\n",
    "Nous allons utiliser les cartes proposées par Open Street Map et le langage Python afin de générer des cartes personnalisées. Plus exactement, nous allons utiliser une bibliothèque Python nommée Folium. Une bibliothèque Python permet de rajouter des fonctionnalités au langage de base. Folium va donc nous permettre de créer nos propres cartes à partir des cartes proposées par Open Street Map"
   ]
  },
  {
   "cell_type": "markdown",
   "metadata": {},
   "source": [
    "## À faire vous même 1\n",
    "- Exécuter le script ci-dessous, notez bien que nous avons une véritable carte et pas une simple image (il est possible de zoomer ou de se déplacer).\n",
    "\n",
    ">La première ligne : `import folium` permet d'importer la bibliothèque folium afin de pouvoir l'utiliser. <br/>\n",
    ">La deuxième ligne est le coeur de notre programme, nous définissons une variable \"m\" qui va contenir notre objet carte. `folium.Map(location=[48,-2], zoom_start=8, tiles='OpenStreetMap')` génère cet objet carte, la carte sera centrée sur le point de latitude \"48\" et de longitude \"-2\". Il suffit donc de renseigner la bonne longitude et la bonne latitude pour que la carte soit centrée sur le point désiré. `zoom_start=8` donne l'échelle de départ. \n",
    "\n",
    "- Modifier ple script pour faire apparaître une carte à l'échelle de la ville, centrée sur le lycée de Montfort."
   ]
  },
  {
   "cell_type": "code",
   "execution_count": null,
   "metadata": {
    "scrolled": true
   },
   "outputs": [],
   "source": [
    "import folium\n",
    "m = folium.Map(location=[48,-2], zoom_start=8, tiles='OpenStreetMap')\n",
    "m"
   ]
  },
  {
   "cell_type": "markdown",
   "metadata": {},
   "source": [
    "## À faire vous même 2\n",
    "> Afin de personnaliser la carte, il est possible d'ajouter des marqueurs. Un marqueur sera simplement défini par ses coordonnées (latitude et longitude). \n",
    "- Exécuter le script ci-dessous, identifier le rôle des paramètres `popup`, `tooltip`.\n",
    "- Créer vos propres marqueurs des lieux que vous jugerez importants entre votre domicile et le lycée."
   ]
  },
  {
   "cell_type": "code",
   "execution_count": null,
   "metadata": {},
   "outputs": [],
   "source": [
    "folium.Marker([48.1372, -1.9640],popup='Piscine',tooltip='ici').add_to(m)\n",
    "m"
   ]
  },
  {
   "cell_type": "markdown",
   "metadata": {},
   "source": [
    "## À faire vous même 3\n",
    "> Afin de vraiment personnaliser la carte, il est possible d'ajouter d'autres types de marqueur sur la carte.\n",
    "- Exécuter le script ci-dessous, identifier le comportement de ces deux objets ainsi que le rôle de chacun de leurs paramètres.\n",
    "- Créer de nouveaux marqueurs pour personnaliser la carte entre votre domicile et le lycée."
   ]
  },
  {
   "cell_type": "code",
   "execution_count": null,
   "metadata": {},
   "outputs": [],
   "source": [
    "folium.Circle(radius=200,location=[48.1375,-1.9555],popup='Le centre-ville',\n",
    "              color='crimson',fill=True).add_to(m)\n",
    "\n",
    "folium.CircleMarker(location=[48.1427,-1.9635],radius=50,popup='Le Lycée',\n",
    "                    tooltip='lycée',color='#3186cc',fill=True,fill_color='#3186cc').add_to(m)\n",
    "m"
   ]
  },
  {
   "cell_type": "markdown",
   "metadata": {},
   "source": [
    "## À faire vous même 4\n",
    "Vous allez surligner le trajet entre votre votre domicile et le lycée.\n",
    "\n",
    ">Pour cela nous allons utiliser la méthode `m.add_child(folium.LatLngPopup())` qui va permettre d'afficher les coordonnées de l'endroit où l'on clique sur la carte.\n",
    "\n",
    "Modifiez le script suivant (en particulier la méthode `folium.PolyLine` qui prend la liste des coordonnées des points à relier comme paramètres) pour tracer le chemin."
   ]
  },
  {
   "cell_type": "code",
   "execution_count": null,
   "metadata": {},
   "outputs": [],
   "source": [
    "m.add_child(folium.LatLngPopup())\n",
    "folium.PolyLine([(48.1375,-1.9555),(48.1372, -1.9640),(48.1427,-1.9635)],weight=5,color='blue').add_to(m)\n",
    "m"
   ]
  },
  {
   "cell_type": "markdown",
   "metadata": {},
   "source": [
    "## À faire vous même 5\n",
    "Il est possible de créer une page html contenant cette carte grace à la méthode `m.save('maCarte.html')`\n",
    "\n",
    "Mais pour cela vous devez exécuter le Notebook sur votre ordinateur, ou récupérer les scripts et les éxécuter dans Pyzo, Spyder, édupython, Thonny ou encore IDLE pour que vous puissiez récupérer la page web."
   ]
  },
  {
   "cell_type": "code",
   "execution_count": null,
   "metadata": {},
   "outputs": [],
   "source": [
    "m.save('ma_carte.html')"
   ]
  }
 ],
 "metadata": {
  "kernelspec": {
   "display_name": "Python 3",
   "language": "python",
   "name": "python3"
  },
  "language_info": {
   "codemirror_mode": {
    "name": "ipython",
    "version": 3
   },
   "file_extension": ".py",
   "mimetype": "text/x-python",
   "name": "python",
   "nbconvert_exporter": "python",
   "pygments_lexer": "ipython3",
   "version": "3.7.3"
  },
  "varInspector": {
   "cols": {
    "lenName": 16,
    "lenType": 16,
    "lenVar": 40
   },
   "kernels_config": {
    "python": {
     "delete_cmd_postfix": "",
     "delete_cmd_prefix": "del ",
     "library": "var_list.py",
     "varRefreshCmd": "print(var_dic_list())"
    },
    "r": {
     "delete_cmd_postfix": ") ",
     "delete_cmd_prefix": "rm(",
     "library": "var_list.r",
     "varRefreshCmd": "cat(var_dic_list()) "
    }
   },
   "types_to_exclude": [
    "module",
    "function",
    "builtin_function_or_method",
    "instance",
    "_Feature"
   ],
   "window_display": false
  }
 },
 "nbformat": 4,
 "nbformat_minor": 2
}
